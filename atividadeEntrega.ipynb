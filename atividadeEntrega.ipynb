{
  "cells": [
    {
      "cell_type": "markdown",
      "metadata": {
        "id": "view-in-github",
        "colab_type": "text"
      },
      "source": [
        "<a href=\"https://colab.research.google.com/github/GuilhermeEduardoGS/colab/blob/main/atividadeEntrega.ipynb\" target=\"_parent\"><img src=\"https://colab.research.google.com/assets/colab-badge.svg\" alt=\"Open In Colab\"/></a>"
      ]
    },
    {
      "cell_type": "markdown",
      "source": [
        "# Nova seção"
      ],
      "metadata": {
        "id": "PMEC01bxcPwG"
      }
    },
    {
      "cell_type": "code",
      "source": [
        "install.packages(\"ggplot2\")"
      ],
      "metadata": {
        "id": "m6UUoYPrcTuj",
        "outputId": "bae8632e-0e81-40b5-ff27-c6bc82d39ab1",
        "colab": {
          "base_uri": "https://localhost:8080/"
        }
      },
      "execution_count": 3,
      "outputs": [
        {
          "output_type": "stream",
          "name": "stderr",
          "text": [
            "Installing package into ‘/usr/local/lib/R/site-library’\n",
            "(as ‘lib’ is unspecified)\n",
            "\n"
          ]
        }
      ]
    },
    {
      "cell_type": "code",
      "source": [
        "library(ggplot2)\n",
        "\n",
        "loan=read.csv(\"/content/15b -loan_data_set.csv\",na =\" \")"
      ],
      "metadata": {
        "id": "CVtTkkVRctr5"
      },
      "execution_count": 6,
      "outputs": []
    },
    {
      "cell_type": "code",
      "source": [
        "View(loan)"
      ],
      "metadata": {
        "collapsed": true,
        "id": "1984m_yZc9Fc",
        "outputId": "5ecf9d6a-91d3-46e1-af67-52d83f0897e6",
        "colab": {
          "base_uri": "https://localhost:8080/",
          "height": 1000
        }
      },
      "execution_count": 9,
      "outputs": [
        {
          "output_type": "display_data",
          "data": {
            "text/plain": [
              "    Loan_ID  Gender Married Dependents Education    Self_Employed\n",
              "1   LP001002 Male   No      0          Graduate     No           \n",
              "2   LP001003 Male   Yes     1          Graduate     No           \n",
              "3   LP001005 Male   Yes     0          Graduate     Yes          \n",
              "4   LP001006 Male   Yes     0          Not Graduate No           \n",
              "5   LP001008 Male   No      0          Graduate     No           \n",
              "6   LP001011 Male   Yes     2          Graduate     Yes          \n",
              "7   LP001013 Male   Yes     0          Not Graduate No           \n",
              "8   LP001014 Male   Yes     3+         Graduate     No           \n",
              "9   LP001018 Male   Yes     2          Graduate     No           \n",
              "10  LP001020 Male   Yes     1          Graduate     No           \n",
              "11  LP001024 Male   Yes     2          Graduate     No           \n",
              "12  LP001027 Male   Yes     2          Graduate                  \n",
              "13  LP001028 Male   Yes     2          Graduate     No           \n",
              "14  LP001029 Male   No      0          Graduate     No           \n",
              "15  LP001030 Male   Yes     2          Graduate     No           \n",
              "16  LP001032 Male   No      0          Graduate     No           \n",
              "17  LP001034 Male   No      1          Not Graduate No           \n",
              "18  LP001036 Female No      0          Graduate     No           \n",
              "19  LP001038 Male   Yes     0          Not Graduate No           \n",
              "20  LP001041 Male   Yes     0          Graduate                  \n",
              "21  LP001043 Male   Yes     0          Not Graduate No           \n",
              "22  LP001046 Male   Yes     1          Graduate     No           \n",
              "23  LP001047 Male   Yes     0          Not Graduate No           \n",
              "24  LP001050        Yes     2          Not Graduate No           \n",
              "25  LP001052 Male   Yes     1          Graduate                  \n",
              "26  LP001066 Male   Yes     0          Graduate     Yes          \n",
              "27  LP001068 Male   Yes     0          Graduate     No           \n",
              "28  LP001073 Male   Yes     2          Not Graduate No           \n",
              "29  LP001086 Male   No      0          Not Graduate No           \n",
              "30  LP001087 Female No      2          Graduate                  \n",
              "⋮   ⋮        ⋮      ⋮       ⋮          ⋮            ⋮            \n",
              "585 LP002911 Male   Yes     1          Graduate     No           \n",
              "586 LP002912 Male   Yes     1          Graduate     No           \n",
              "587 LP002916 Male   Yes     0          Graduate     No           \n",
              "588 LP002917 Female No      0          Not Graduate No           \n",
              "589 LP002925        No      0          Graduate     No           \n",
              "590 LP002926 Male   Yes     2          Graduate     Yes          \n",
              "591 LP002928 Male   Yes     0          Graduate     No           \n",
              "592 LP002931 Male   Yes     2          Graduate     Yes          \n",
              "593 LP002933        No      3+         Graduate     Yes          \n",
              "594 LP002936 Male   Yes     0          Graduate     No           \n",
              "595 LP002938 Male   Yes     0          Graduate     Yes          \n",
              "596 LP002940 Male   No      0          Not Graduate No           \n",
              "597 LP002941 Male   Yes     2          Not Graduate Yes          \n",
              "598 LP002943 Male   No                 Graduate     No           \n",
              "599 LP002945 Male   Yes     0          Graduate     Yes          \n",
              "600 LP002948 Male   Yes     2          Graduate     No           \n",
              "601 LP002949 Female No      3+         Graduate                  \n",
              "602 LP002950 Male   Yes     0          Not Graduate              \n",
              "603 LP002953 Male   Yes     3+         Graduate     No           \n",
              "604 LP002958 Male   No      0          Graduate     No           \n",
              "605 LP002959 Female Yes     1          Graduate     No           \n",
              "606 LP002960 Male   Yes     0          Not Graduate No           \n",
              "607 LP002961 Male   Yes     1          Graduate     No           \n",
              "608 LP002964 Male   Yes     2          Not Graduate No           \n",
              "609 LP002974 Male   Yes     0          Graduate     No           \n",
              "610 LP002978 Female No      0          Graduate     No           \n",
              "611 LP002979 Male   Yes     3+         Graduate     No           \n",
              "612 LP002983 Male   Yes     1          Graduate     No           \n",
              "613 LP002984 Male   Yes     2          Graduate     No           \n",
              "614 LP002990 Female No      0          Graduate     Yes          \n",
              "    ApplicantIncome CoapplicantIncome LoanAmount Loan_Amount_Term\n",
              "1    5849               0              NA        360             \n",
              "2    4583            1508             128        360             \n",
              "3    3000               0              66        360             \n",
              "4    2583            2358             120        360             \n",
              "5    6000               0             141        360             \n",
              "6    5417            4196             267        360             \n",
              "7    2333            1516              95        360             \n",
              "8    3036            2504             158        360             \n",
              "9    4006            1526             168        360             \n",
              "10  12841           10968             349        360             \n",
              "11   3200             700              70        360             \n",
              "12   2500            1840             109        360             \n",
              "13   3073            8106             200        360             \n",
              "14   1853            2840             114        360             \n",
              "15   1299            1086              17        120             \n",
              "16   4950               0             125        360             \n",
              "17   3596               0             100        240             \n",
              "18   3510               0              76        360             \n",
              "19   4887               0             133        360             \n",
              "20   2600            3500             115         NA             \n",
              "21   7660               0             104        360             \n",
              "22   5955            5625             315        360             \n",
              "23   2600            1911             116        360             \n",
              "24   3365            1917             112        360             \n",
              "25   3717            2925             151        360             \n",
              "26   9560               0             191        360             \n",
              "27   2799            2253             122        360             \n",
              "28   4226            1040             110        360             \n",
              "29   1442               0              35        360             \n",
              "30   3750            2083             120        360             \n",
              "⋮   ⋮               ⋮                 ⋮          ⋮               \n",
              "585  2787            1917             146        360             \n",
              "586  4283            3000             172         84             \n",
              "587  2297            1522             104        360             \n",
              "588  2165               0              70        360             \n",
              "589  4750               0              94        360             \n",
              "590  2726               0             106        360             \n",
              "591  3000            3416              56        180             \n",
              "592  6000               0             205        240             \n",
              "593  9357               0             292        360             \n",
              "594  3859            3300             142        180             \n",
              "595 16120               0             260        360             \n",
              "596  3833               0             110        360             \n",
              "597  6383            1000             187        360             \n",
              "598  2987               0              88        360             \n",
              "599  9963               0             180        360             \n",
              "600  5780               0             192        360             \n",
              "601   416           41667             350        180             \n",
              "602  2894            2792             155        360             \n",
              "603  5703               0             128        360             \n",
              "604  3676            4301             172        360             \n",
              "605 12000               0             496        360             \n",
              "606  2400            3800              NA        180             \n",
              "607  3400            2500             173        360             \n",
              "608  3987            1411             157        360             \n",
              "609  3232            1950             108        360             \n",
              "610  2900               0              71        360             \n",
              "611  4106               0              40        180             \n",
              "612  8072             240             253        360             \n",
              "613  7583               0             187        360             \n",
              "614  4583               0             133        360             \n",
              "    Credit_History Property_Area Loan_Status\n",
              "1    1             Urban         Y          \n",
              "2    1             Rural         N          \n",
              "3    1             Urban         Y          \n",
              "4    1             Urban         Y          \n",
              "5    1             Urban         Y          \n",
              "6    1             Urban         Y          \n",
              "7    1             Urban         Y          \n",
              "8    0             Semiurban     N          \n",
              "9    1             Urban         Y          \n",
              "10   1             Semiurban     N          \n",
              "11   1             Urban         Y          \n",
              "12   1             Urban         Y          \n",
              "13   1             Urban         Y          \n",
              "14   1             Rural         N          \n",
              "15   1             Urban         Y          \n",
              "16   1             Urban         Y          \n",
              "17  NA             Urban         Y          \n",
              "18   0             Urban         N          \n",
              "19   1             Rural         N          \n",
              "20   1             Urban         Y          \n",
              "21   0             Urban         N          \n",
              "22   1             Urban         Y          \n",
              "23   0             Semiurban     N          \n",
              "24   0             Rural         N          \n",
              "25  NA             Semiurban     N          \n",
              "26   1             Semiurban     Y          \n",
              "27   1             Semiurban     Y          \n",
              "28   1             Urban         Y          \n",
              "29   1             Urban         N          \n",
              "30   1             Semiurban     Y          \n",
              "⋮   ⋮              ⋮             ⋮          \n",
              "585  0             Rural         N          \n",
              "586  1             Rural         N          \n",
              "587  1             Urban         Y          \n",
              "588  1             Semiurban     Y          \n",
              "589  1             Semiurban     Y          \n",
              "590  0             Semiurban     N          \n",
              "591  1             Semiurban     Y          \n",
              "592  1             Semiurban     N          \n",
              "593  1             Semiurban     Y          \n",
              "594  1             Rural         Y          \n",
              "595  1             Urban         Y          \n",
              "596  1             Rural         Y          \n",
              "597  1             Rural         N          \n",
              "598  0             Semiurban     N          \n",
              "599  1             Rural         Y          \n",
              "600  1             Urban         Y          \n",
              "601 NA             Urban         N          \n",
              "602  1             Rural         Y          \n",
              "603  1             Urban         Y          \n",
              "604  1             Rural         Y          \n",
              "605  1             Semiurban     Y          \n",
              "606  1             Urban         N          \n",
              "607  1             Semiurban     Y          \n",
              "608  1             Rural         Y          \n",
              "609  1             Rural         Y          \n",
              "610  1             Rural         Y          \n",
              "611  1             Rural         Y          \n",
              "612  1             Urban         Y          \n",
              "613  1             Urban         Y          \n",
              "614  0             Semiurban     N          "
            ],
            "text/html": [
              "<table class=\"dataframe\">\n",
              "<caption>A data.frame: 614 × 13</caption>\n",
              "<thead>\n",
              "\t<tr><th scope=col>Loan_ID</th><th scope=col>Gender</th><th scope=col>Married</th><th scope=col>Dependents</th><th scope=col>Education</th><th scope=col>Self_Employed</th><th scope=col>ApplicantIncome</th><th scope=col>CoapplicantIncome</th><th scope=col>LoanAmount</th><th scope=col>Loan_Amount_Term</th><th scope=col>Credit_History</th><th scope=col>Property_Area</th><th scope=col>Loan_Status</th></tr>\n",
              "\t<tr><th scope=col>&lt;chr&gt;</th><th scope=col>&lt;chr&gt;</th><th scope=col>&lt;chr&gt;</th><th scope=col>&lt;chr&gt;</th><th scope=col>&lt;chr&gt;</th><th scope=col>&lt;chr&gt;</th><th scope=col>&lt;int&gt;</th><th scope=col>&lt;dbl&gt;</th><th scope=col>&lt;int&gt;</th><th scope=col>&lt;int&gt;</th><th scope=col>&lt;int&gt;</th><th scope=col>&lt;chr&gt;</th><th scope=col>&lt;chr&gt;</th></tr>\n",
              "</thead>\n",
              "<tbody>\n",
              "\t<tr><td>LP001002</td><td>Male  </td><td>No </td><td>0 </td><td>Graduate    </td><td>No </td><td> 5849</td><td>    0</td><td> NA</td><td>360</td><td> 1</td><td>Urban    </td><td>Y</td></tr>\n",
              "\t<tr><td>LP001003</td><td>Male  </td><td>Yes</td><td>1 </td><td>Graduate    </td><td>No </td><td> 4583</td><td> 1508</td><td>128</td><td>360</td><td> 1</td><td>Rural    </td><td>N</td></tr>\n",
              "\t<tr><td>LP001005</td><td>Male  </td><td>Yes</td><td>0 </td><td>Graduate    </td><td>Yes</td><td> 3000</td><td>    0</td><td> 66</td><td>360</td><td> 1</td><td>Urban    </td><td>Y</td></tr>\n",
              "\t<tr><td>LP001006</td><td>Male  </td><td>Yes</td><td>0 </td><td>Not Graduate</td><td>No </td><td> 2583</td><td> 2358</td><td>120</td><td>360</td><td> 1</td><td>Urban    </td><td>Y</td></tr>\n",
              "\t<tr><td>LP001008</td><td>Male  </td><td>No </td><td>0 </td><td>Graduate    </td><td>No </td><td> 6000</td><td>    0</td><td>141</td><td>360</td><td> 1</td><td>Urban    </td><td>Y</td></tr>\n",
              "\t<tr><td>LP001011</td><td>Male  </td><td>Yes</td><td>2 </td><td>Graduate    </td><td>Yes</td><td> 5417</td><td> 4196</td><td>267</td><td>360</td><td> 1</td><td>Urban    </td><td>Y</td></tr>\n",
              "\t<tr><td>LP001013</td><td>Male  </td><td>Yes</td><td>0 </td><td>Not Graduate</td><td>No </td><td> 2333</td><td> 1516</td><td> 95</td><td>360</td><td> 1</td><td>Urban    </td><td>Y</td></tr>\n",
              "\t<tr><td>LP001014</td><td>Male  </td><td>Yes</td><td>3+</td><td>Graduate    </td><td>No </td><td> 3036</td><td> 2504</td><td>158</td><td>360</td><td> 0</td><td>Semiurban</td><td>N</td></tr>\n",
              "\t<tr><td>LP001018</td><td>Male  </td><td>Yes</td><td>2 </td><td>Graduate    </td><td>No </td><td> 4006</td><td> 1526</td><td>168</td><td>360</td><td> 1</td><td>Urban    </td><td>Y</td></tr>\n",
              "\t<tr><td>LP001020</td><td>Male  </td><td>Yes</td><td>1 </td><td>Graduate    </td><td>No </td><td>12841</td><td>10968</td><td>349</td><td>360</td><td> 1</td><td>Semiurban</td><td>N</td></tr>\n",
              "\t<tr><td>LP001024</td><td>Male  </td><td>Yes</td><td>2 </td><td>Graduate    </td><td>No </td><td> 3200</td><td>  700</td><td> 70</td><td>360</td><td> 1</td><td>Urban    </td><td>Y</td></tr>\n",
              "\t<tr><td>LP001027</td><td>Male  </td><td>Yes</td><td>2 </td><td>Graduate    </td><td>   </td><td> 2500</td><td> 1840</td><td>109</td><td>360</td><td> 1</td><td>Urban    </td><td>Y</td></tr>\n",
              "\t<tr><td>LP001028</td><td>Male  </td><td>Yes</td><td>2 </td><td>Graduate    </td><td>No </td><td> 3073</td><td> 8106</td><td>200</td><td>360</td><td> 1</td><td>Urban    </td><td>Y</td></tr>\n",
              "\t<tr><td>LP001029</td><td>Male  </td><td>No </td><td>0 </td><td>Graduate    </td><td>No </td><td> 1853</td><td> 2840</td><td>114</td><td>360</td><td> 1</td><td>Rural    </td><td>N</td></tr>\n",
              "\t<tr><td>LP001030</td><td>Male  </td><td>Yes</td><td>2 </td><td>Graduate    </td><td>No </td><td> 1299</td><td> 1086</td><td> 17</td><td>120</td><td> 1</td><td>Urban    </td><td>Y</td></tr>\n",
              "\t<tr><td>LP001032</td><td>Male  </td><td>No </td><td>0 </td><td>Graduate    </td><td>No </td><td> 4950</td><td>    0</td><td>125</td><td>360</td><td> 1</td><td>Urban    </td><td>Y</td></tr>\n",
              "\t<tr><td>LP001034</td><td>Male  </td><td>No </td><td>1 </td><td>Not Graduate</td><td>No </td><td> 3596</td><td>    0</td><td>100</td><td>240</td><td>NA</td><td>Urban    </td><td>Y</td></tr>\n",
              "\t<tr><td>LP001036</td><td>Female</td><td>No </td><td>0 </td><td>Graduate    </td><td>No </td><td> 3510</td><td>    0</td><td> 76</td><td>360</td><td> 0</td><td>Urban    </td><td>N</td></tr>\n",
              "\t<tr><td>LP001038</td><td>Male  </td><td>Yes</td><td>0 </td><td>Not Graduate</td><td>No </td><td> 4887</td><td>    0</td><td>133</td><td>360</td><td> 1</td><td>Rural    </td><td>N</td></tr>\n",
              "\t<tr><td>LP001041</td><td>Male  </td><td>Yes</td><td>0 </td><td>Graduate    </td><td>   </td><td> 2600</td><td> 3500</td><td>115</td><td> NA</td><td> 1</td><td>Urban    </td><td>Y</td></tr>\n",
              "\t<tr><td>LP001043</td><td>Male  </td><td>Yes</td><td>0 </td><td>Not Graduate</td><td>No </td><td> 7660</td><td>    0</td><td>104</td><td>360</td><td> 0</td><td>Urban    </td><td>N</td></tr>\n",
              "\t<tr><td>LP001046</td><td>Male  </td><td>Yes</td><td>1 </td><td>Graduate    </td><td>No </td><td> 5955</td><td> 5625</td><td>315</td><td>360</td><td> 1</td><td>Urban    </td><td>Y</td></tr>\n",
              "\t<tr><td>LP001047</td><td>Male  </td><td>Yes</td><td>0 </td><td>Not Graduate</td><td>No </td><td> 2600</td><td> 1911</td><td>116</td><td>360</td><td> 0</td><td>Semiurban</td><td>N</td></tr>\n",
              "\t<tr><td>LP001050</td><td>      </td><td>Yes</td><td>2 </td><td>Not Graduate</td><td>No </td><td> 3365</td><td> 1917</td><td>112</td><td>360</td><td> 0</td><td>Rural    </td><td>N</td></tr>\n",
              "\t<tr><td>LP001052</td><td>Male  </td><td>Yes</td><td>1 </td><td>Graduate    </td><td>   </td><td> 3717</td><td> 2925</td><td>151</td><td>360</td><td>NA</td><td>Semiurban</td><td>N</td></tr>\n",
              "\t<tr><td>LP001066</td><td>Male  </td><td>Yes</td><td>0 </td><td>Graduate    </td><td>Yes</td><td> 9560</td><td>    0</td><td>191</td><td>360</td><td> 1</td><td>Semiurban</td><td>Y</td></tr>\n",
              "\t<tr><td>LP001068</td><td>Male  </td><td>Yes</td><td>0 </td><td>Graduate    </td><td>No </td><td> 2799</td><td> 2253</td><td>122</td><td>360</td><td> 1</td><td>Semiurban</td><td>Y</td></tr>\n",
              "\t<tr><td>LP001073</td><td>Male  </td><td>Yes</td><td>2 </td><td>Not Graduate</td><td>No </td><td> 4226</td><td> 1040</td><td>110</td><td>360</td><td> 1</td><td>Urban    </td><td>Y</td></tr>\n",
              "\t<tr><td>LP001086</td><td>Male  </td><td>No </td><td>0 </td><td>Not Graduate</td><td>No </td><td> 1442</td><td>    0</td><td> 35</td><td>360</td><td> 1</td><td>Urban    </td><td>N</td></tr>\n",
              "\t<tr><td>LP001087</td><td>Female</td><td>No </td><td>2 </td><td>Graduate    </td><td>   </td><td> 3750</td><td> 2083</td><td>120</td><td>360</td><td> 1</td><td>Semiurban</td><td>Y</td></tr>\n",
              "\t<tr><td>⋮</td><td>⋮</td><td>⋮</td><td>⋮</td><td>⋮</td><td>⋮</td><td>⋮</td><td>⋮</td><td>⋮</td><td>⋮</td><td>⋮</td><td>⋮</td><td>⋮</td></tr>\n",
              "\t<tr><td>LP002911</td><td>Male  </td><td>Yes</td><td>1 </td><td>Graduate    </td><td>No </td><td> 2787</td><td> 1917</td><td>146</td><td>360</td><td> 0</td><td>Rural    </td><td>N</td></tr>\n",
              "\t<tr><td>LP002912</td><td>Male  </td><td>Yes</td><td>1 </td><td>Graduate    </td><td>No </td><td> 4283</td><td> 3000</td><td>172</td><td> 84</td><td> 1</td><td>Rural    </td><td>N</td></tr>\n",
              "\t<tr><td>LP002916</td><td>Male  </td><td>Yes</td><td>0 </td><td>Graduate    </td><td>No </td><td> 2297</td><td> 1522</td><td>104</td><td>360</td><td> 1</td><td>Urban    </td><td>Y</td></tr>\n",
              "\t<tr><td>LP002917</td><td>Female</td><td>No </td><td>0 </td><td>Not Graduate</td><td>No </td><td> 2165</td><td>    0</td><td> 70</td><td>360</td><td> 1</td><td>Semiurban</td><td>Y</td></tr>\n",
              "\t<tr><td>LP002925</td><td>      </td><td>No </td><td>0 </td><td>Graduate    </td><td>No </td><td> 4750</td><td>    0</td><td> 94</td><td>360</td><td> 1</td><td>Semiurban</td><td>Y</td></tr>\n",
              "\t<tr><td>LP002926</td><td>Male  </td><td>Yes</td><td>2 </td><td>Graduate    </td><td>Yes</td><td> 2726</td><td>    0</td><td>106</td><td>360</td><td> 0</td><td>Semiurban</td><td>N</td></tr>\n",
              "\t<tr><td>LP002928</td><td>Male  </td><td>Yes</td><td>0 </td><td>Graduate    </td><td>No </td><td> 3000</td><td> 3416</td><td> 56</td><td>180</td><td> 1</td><td>Semiurban</td><td>Y</td></tr>\n",
              "\t<tr><td>LP002931</td><td>Male  </td><td>Yes</td><td>2 </td><td>Graduate    </td><td>Yes</td><td> 6000</td><td>    0</td><td>205</td><td>240</td><td> 1</td><td>Semiurban</td><td>N</td></tr>\n",
              "\t<tr><td>LP002933</td><td>      </td><td>No </td><td>3+</td><td>Graduate    </td><td>Yes</td><td> 9357</td><td>    0</td><td>292</td><td>360</td><td> 1</td><td>Semiurban</td><td>Y</td></tr>\n",
              "\t<tr><td>LP002936</td><td>Male  </td><td>Yes</td><td>0 </td><td>Graduate    </td><td>No </td><td> 3859</td><td> 3300</td><td>142</td><td>180</td><td> 1</td><td>Rural    </td><td>Y</td></tr>\n",
              "\t<tr><td>LP002938</td><td>Male  </td><td>Yes</td><td>0 </td><td>Graduate    </td><td>Yes</td><td>16120</td><td>    0</td><td>260</td><td>360</td><td> 1</td><td>Urban    </td><td>Y</td></tr>\n",
              "\t<tr><td>LP002940</td><td>Male  </td><td>No </td><td>0 </td><td>Not Graduate</td><td>No </td><td> 3833</td><td>    0</td><td>110</td><td>360</td><td> 1</td><td>Rural    </td><td>Y</td></tr>\n",
              "\t<tr><td>LP002941</td><td>Male  </td><td>Yes</td><td>2 </td><td>Not Graduate</td><td>Yes</td><td> 6383</td><td> 1000</td><td>187</td><td>360</td><td> 1</td><td>Rural    </td><td>N</td></tr>\n",
              "\t<tr><td>LP002943</td><td>Male  </td><td>No </td><td>  </td><td>Graduate    </td><td>No </td><td> 2987</td><td>    0</td><td> 88</td><td>360</td><td> 0</td><td>Semiurban</td><td>N</td></tr>\n",
              "\t<tr><td>LP002945</td><td>Male  </td><td>Yes</td><td>0 </td><td>Graduate    </td><td>Yes</td><td> 9963</td><td>    0</td><td>180</td><td>360</td><td> 1</td><td>Rural    </td><td>Y</td></tr>\n",
              "\t<tr><td>LP002948</td><td>Male  </td><td>Yes</td><td>2 </td><td>Graduate    </td><td>No </td><td> 5780</td><td>    0</td><td>192</td><td>360</td><td> 1</td><td>Urban    </td><td>Y</td></tr>\n",
              "\t<tr><td>LP002949</td><td>Female</td><td>No </td><td>3+</td><td>Graduate    </td><td>   </td><td>  416</td><td>41667</td><td>350</td><td>180</td><td>NA</td><td>Urban    </td><td>N</td></tr>\n",
              "\t<tr><td>LP002950</td><td>Male  </td><td>Yes</td><td>0 </td><td>Not Graduate</td><td>   </td><td> 2894</td><td> 2792</td><td>155</td><td>360</td><td> 1</td><td>Rural    </td><td>Y</td></tr>\n",
              "\t<tr><td>LP002953</td><td>Male  </td><td>Yes</td><td>3+</td><td>Graduate    </td><td>No </td><td> 5703</td><td>    0</td><td>128</td><td>360</td><td> 1</td><td>Urban    </td><td>Y</td></tr>\n",
              "\t<tr><td>LP002958</td><td>Male  </td><td>No </td><td>0 </td><td>Graduate    </td><td>No </td><td> 3676</td><td> 4301</td><td>172</td><td>360</td><td> 1</td><td>Rural    </td><td>Y</td></tr>\n",
              "\t<tr><td>LP002959</td><td>Female</td><td>Yes</td><td>1 </td><td>Graduate    </td><td>No </td><td>12000</td><td>    0</td><td>496</td><td>360</td><td> 1</td><td>Semiurban</td><td>Y</td></tr>\n",
              "\t<tr><td>LP002960</td><td>Male  </td><td>Yes</td><td>0 </td><td>Not Graduate</td><td>No </td><td> 2400</td><td> 3800</td><td> NA</td><td>180</td><td> 1</td><td>Urban    </td><td>N</td></tr>\n",
              "\t<tr><td>LP002961</td><td>Male  </td><td>Yes</td><td>1 </td><td>Graduate    </td><td>No </td><td> 3400</td><td> 2500</td><td>173</td><td>360</td><td> 1</td><td>Semiurban</td><td>Y</td></tr>\n",
              "\t<tr><td>LP002964</td><td>Male  </td><td>Yes</td><td>2 </td><td>Not Graduate</td><td>No </td><td> 3987</td><td> 1411</td><td>157</td><td>360</td><td> 1</td><td>Rural    </td><td>Y</td></tr>\n",
              "\t<tr><td>LP002974</td><td>Male  </td><td>Yes</td><td>0 </td><td>Graduate    </td><td>No </td><td> 3232</td><td> 1950</td><td>108</td><td>360</td><td> 1</td><td>Rural    </td><td>Y</td></tr>\n",
              "\t<tr><td>LP002978</td><td>Female</td><td>No </td><td>0 </td><td>Graduate    </td><td>No </td><td> 2900</td><td>    0</td><td> 71</td><td>360</td><td> 1</td><td>Rural    </td><td>Y</td></tr>\n",
              "\t<tr><td>LP002979</td><td>Male  </td><td>Yes</td><td>3+</td><td>Graduate    </td><td>No </td><td> 4106</td><td>    0</td><td> 40</td><td>180</td><td> 1</td><td>Rural    </td><td>Y</td></tr>\n",
              "\t<tr><td>LP002983</td><td>Male  </td><td>Yes</td><td>1 </td><td>Graduate    </td><td>No </td><td> 8072</td><td>  240</td><td>253</td><td>360</td><td> 1</td><td>Urban    </td><td>Y</td></tr>\n",
              "\t<tr><td>LP002984</td><td>Male  </td><td>Yes</td><td>2 </td><td>Graduate    </td><td>No </td><td> 7583</td><td>    0</td><td>187</td><td>360</td><td> 1</td><td>Urban    </td><td>Y</td></tr>\n",
              "\t<tr><td>LP002990</td><td>Female</td><td>No </td><td>0 </td><td>Graduate    </td><td>Yes</td><td> 4583</td><td>    0</td><td>133</td><td>360</td><td> 0</td><td>Semiurban</td><td>N</td></tr>\n",
              "</tbody>\n",
              "</table>\n"
            ],
            "text/markdown": "\nA data.frame: 614 × 13\n\n| Loan_ID &lt;chr&gt; | Gender &lt;chr&gt; | Married &lt;chr&gt; | Dependents &lt;chr&gt; | Education &lt;chr&gt; | Self_Employed &lt;chr&gt; | ApplicantIncome &lt;int&gt; | CoapplicantIncome &lt;dbl&gt; | LoanAmount &lt;int&gt; | Loan_Amount_Term &lt;int&gt; | Credit_History &lt;int&gt; | Property_Area &lt;chr&gt; | Loan_Status &lt;chr&gt; |\n|---|---|---|---|---|---|---|---|---|---|---|---|---|\n| LP001002 | Male   | No  | 0  | Graduate     | No  |  5849 |     0 |  NA | 360 |  1 | Urban     | Y |\n| LP001003 | Male   | Yes | 1  | Graduate     | No  |  4583 |  1508 | 128 | 360 |  1 | Rural     | N |\n| LP001005 | Male   | Yes | 0  | Graduate     | Yes |  3000 |     0 |  66 | 360 |  1 | Urban     | Y |\n| LP001006 | Male   | Yes | 0  | Not Graduate | No  |  2583 |  2358 | 120 | 360 |  1 | Urban     | Y |\n| LP001008 | Male   | No  | 0  | Graduate     | No  |  6000 |     0 | 141 | 360 |  1 | Urban     | Y |\n| LP001011 | Male   | Yes | 2  | Graduate     | Yes |  5417 |  4196 | 267 | 360 |  1 | Urban     | Y |\n| LP001013 | Male   | Yes | 0  | Not Graduate | No  |  2333 |  1516 |  95 | 360 |  1 | Urban     | Y |\n| LP001014 | Male   | Yes | 3+ | Graduate     | No  |  3036 |  2504 | 158 | 360 |  0 | Semiurban | N |\n| LP001018 | Male   | Yes | 2  | Graduate     | No  |  4006 |  1526 | 168 | 360 |  1 | Urban     | Y |\n| LP001020 | Male   | Yes | 1  | Graduate     | No  | 12841 | 10968 | 349 | 360 |  1 | Semiurban | N |\n| LP001024 | Male   | Yes | 2  | Graduate     | No  |  3200 |   700 |  70 | 360 |  1 | Urban     | Y |\n| LP001027 | Male   | Yes | 2  | Graduate     | <!----> |  2500 |  1840 | 109 | 360 |  1 | Urban     | Y |\n| LP001028 | Male   | Yes | 2  | Graduate     | No  |  3073 |  8106 | 200 | 360 |  1 | Urban     | Y |\n| LP001029 | Male   | No  | 0  | Graduate     | No  |  1853 |  2840 | 114 | 360 |  1 | Rural     | N |\n| LP001030 | Male   | Yes | 2  | Graduate     | No  |  1299 |  1086 |  17 | 120 |  1 | Urban     | Y |\n| LP001032 | Male   | No  | 0  | Graduate     | No  |  4950 |     0 | 125 | 360 |  1 | Urban     | Y |\n| LP001034 | Male   | No  | 1  | Not Graduate | No  |  3596 |     0 | 100 | 240 | NA | Urban     | Y |\n| LP001036 | Female | No  | 0  | Graduate     | No  |  3510 |     0 |  76 | 360 |  0 | Urban     | N |\n| LP001038 | Male   | Yes | 0  | Not Graduate | No  |  4887 |     0 | 133 | 360 |  1 | Rural     | N |\n| LP001041 | Male   | Yes | 0  | Graduate     | <!----> |  2600 |  3500 | 115 |  NA |  1 | Urban     | Y |\n| LP001043 | Male   | Yes | 0  | Not Graduate | No  |  7660 |     0 | 104 | 360 |  0 | Urban     | N |\n| LP001046 | Male   | Yes | 1  | Graduate     | No  |  5955 |  5625 | 315 | 360 |  1 | Urban     | Y |\n| LP001047 | Male   | Yes | 0  | Not Graduate | No  |  2600 |  1911 | 116 | 360 |  0 | Semiurban | N |\n| LP001050 | <!----> | Yes | 2  | Not Graduate | No  |  3365 |  1917 | 112 | 360 |  0 | Rural     | N |\n| LP001052 | Male   | Yes | 1  | Graduate     | <!----> |  3717 |  2925 | 151 | 360 | NA | Semiurban | N |\n| LP001066 | Male   | Yes | 0  | Graduate     | Yes |  9560 |     0 | 191 | 360 |  1 | Semiurban | Y |\n| LP001068 | Male   | Yes | 0  | Graduate     | No  |  2799 |  2253 | 122 | 360 |  1 | Semiurban | Y |\n| LP001073 | Male   | Yes | 2  | Not Graduate | No  |  4226 |  1040 | 110 | 360 |  1 | Urban     | Y |\n| LP001086 | Male   | No  | 0  | Not Graduate | No  |  1442 |     0 |  35 | 360 |  1 | Urban     | N |\n| LP001087 | Female | No  | 2  | Graduate     | <!----> |  3750 |  2083 | 120 | 360 |  1 | Semiurban | Y |\n| ⋮ | ⋮ | ⋮ | ⋮ | ⋮ | ⋮ | ⋮ | ⋮ | ⋮ | ⋮ | ⋮ | ⋮ | ⋮ |\n| LP002911 | Male   | Yes | 1  | Graduate     | No  |  2787 |  1917 | 146 | 360 |  0 | Rural     | N |\n| LP002912 | Male   | Yes | 1  | Graduate     | No  |  4283 |  3000 | 172 |  84 |  1 | Rural     | N |\n| LP002916 | Male   | Yes | 0  | Graduate     | No  |  2297 |  1522 | 104 | 360 |  1 | Urban     | Y |\n| LP002917 | Female | No  | 0  | Not Graduate | No  |  2165 |     0 |  70 | 360 |  1 | Semiurban | Y |\n| LP002925 | <!----> | No  | 0  | Graduate     | No  |  4750 |     0 |  94 | 360 |  1 | Semiurban | Y |\n| LP002926 | Male   | Yes | 2  | Graduate     | Yes |  2726 |     0 | 106 | 360 |  0 | Semiurban | N |\n| LP002928 | Male   | Yes | 0  | Graduate     | No  |  3000 |  3416 |  56 | 180 |  1 | Semiurban | Y |\n| LP002931 | Male   | Yes | 2  | Graduate     | Yes |  6000 |     0 | 205 | 240 |  1 | Semiurban | N |\n| LP002933 | <!----> | No  | 3+ | Graduate     | Yes |  9357 |     0 | 292 | 360 |  1 | Semiurban | Y |\n| LP002936 | Male   | Yes | 0  | Graduate     | No  |  3859 |  3300 | 142 | 180 |  1 | Rural     | Y |\n| LP002938 | Male   | Yes | 0  | Graduate     | Yes | 16120 |     0 | 260 | 360 |  1 | Urban     | Y |\n| LP002940 | Male   | No  | 0  | Not Graduate | No  |  3833 |     0 | 110 | 360 |  1 | Rural     | Y |\n| LP002941 | Male   | Yes | 2  | Not Graduate | Yes |  6383 |  1000 | 187 | 360 |  1 | Rural     | N |\n| LP002943 | Male   | No  | <!----> | Graduate     | No  |  2987 |     0 |  88 | 360 |  0 | Semiurban | N |\n| LP002945 | Male   | Yes | 0  | Graduate     | Yes |  9963 |     0 | 180 | 360 |  1 | Rural     | Y |\n| LP002948 | Male   | Yes | 2  | Graduate     | No  |  5780 |     0 | 192 | 360 |  1 | Urban     | Y |\n| LP002949 | Female | No  | 3+ | Graduate     | <!----> |   416 | 41667 | 350 | 180 | NA | Urban     | N |\n| LP002950 | Male   | Yes | 0  | Not Graduate | <!----> |  2894 |  2792 | 155 | 360 |  1 | Rural     | Y |\n| LP002953 | Male   | Yes | 3+ | Graduate     | No  |  5703 |     0 | 128 | 360 |  1 | Urban     | Y |\n| LP002958 | Male   | No  | 0  | Graduate     | No  |  3676 |  4301 | 172 | 360 |  1 | Rural     | Y |\n| LP002959 | Female | Yes | 1  | Graduate     | No  | 12000 |     0 | 496 | 360 |  1 | Semiurban | Y |\n| LP002960 | Male   | Yes | 0  | Not Graduate | No  |  2400 |  3800 |  NA | 180 |  1 | Urban     | N |\n| LP002961 | Male   | Yes | 1  | Graduate     | No  |  3400 |  2500 | 173 | 360 |  1 | Semiurban | Y |\n| LP002964 | Male   | Yes | 2  | Not Graduate | No  |  3987 |  1411 | 157 | 360 |  1 | Rural     | Y |\n| LP002974 | Male   | Yes | 0  | Graduate     | No  |  3232 |  1950 | 108 | 360 |  1 | Rural     | Y |\n| LP002978 | Female | No  | 0  | Graduate     | No  |  2900 |     0 |  71 | 360 |  1 | Rural     | Y |\n| LP002979 | Male   | Yes | 3+ | Graduate     | No  |  4106 |     0 |  40 | 180 |  1 | Rural     | Y |\n| LP002983 | Male   | Yes | 1  | Graduate     | No  |  8072 |   240 | 253 | 360 |  1 | Urban     | Y |\n| LP002984 | Male   | Yes | 2  | Graduate     | No  |  7583 |     0 | 187 | 360 |  1 | Urban     | Y |\n| LP002990 | Female | No  | 0  | Graduate     | Yes |  4583 |     0 | 133 | 360 |  0 | Semiurban | N |\n\n",
            "text/latex": "A data.frame: 614 × 13\n\\begin{tabular}{lllllllllllll}\n Loan\\_ID & Gender & Married & Dependents & Education & Self\\_Employed & ApplicantIncome & CoapplicantIncome & LoanAmount & Loan\\_Amount\\_Term & Credit\\_History & Property\\_Area & Loan\\_Status\\\\\n <chr> & <chr> & <chr> & <chr> & <chr> & <chr> & <int> & <dbl> & <int> & <int> & <int> & <chr> & <chr>\\\\\n\\hline\n\t LP001002 & Male   & No  & 0  & Graduate     & No  &  5849 &     0 &  NA & 360 &  1 & Urban     & Y\\\\\n\t LP001003 & Male   & Yes & 1  & Graduate     & No  &  4583 &  1508 & 128 & 360 &  1 & Rural     & N\\\\\n\t LP001005 & Male   & Yes & 0  & Graduate     & Yes &  3000 &     0 &  66 & 360 &  1 & Urban     & Y\\\\\n\t LP001006 & Male   & Yes & 0  & Not Graduate & No  &  2583 &  2358 & 120 & 360 &  1 & Urban     & Y\\\\\n\t LP001008 & Male   & No  & 0  & Graduate     & No  &  6000 &     0 & 141 & 360 &  1 & Urban     & Y\\\\\n\t LP001011 & Male   & Yes & 2  & Graduate     & Yes &  5417 &  4196 & 267 & 360 &  1 & Urban     & Y\\\\\n\t LP001013 & Male   & Yes & 0  & Not Graduate & No  &  2333 &  1516 &  95 & 360 &  1 & Urban     & Y\\\\\n\t LP001014 & Male   & Yes & 3+ & Graduate     & No  &  3036 &  2504 & 158 & 360 &  0 & Semiurban & N\\\\\n\t LP001018 & Male   & Yes & 2  & Graduate     & No  &  4006 &  1526 & 168 & 360 &  1 & Urban     & Y\\\\\n\t LP001020 & Male   & Yes & 1  & Graduate     & No  & 12841 & 10968 & 349 & 360 &  1 & Semiurban & N\\\\\n\t LP001024 & Male   & Yes & 2  & Graduate     & No  &  3200 &   700 &  70 & 360 &  1 & Urban     & Y\\\\\n\t LP001027 & Male   & Yes & 2  & Graduate     &     &  2500 &  1840 & 109 & 360 &  1 & Urban     & Y\\\\\n\t LP001028 & Male   & Yes & 2  & Graduate     & No  &  3073 &  8106 & 200 & 360 &  1 & Urban     & Y\\\\\n\t LP001029 & Male   & No  & 0  & Graduate     & No  &  1853 &  2840 & 114 & 360 &  1 & Rural     & N\\\\\n\t LP001030 & Male   & Yes & 2  & Graduate     & No  &  1299 &  1086 &  17 & 120 &  1 & Urban     & Y\\\\\n\t LP001032 & Male   & No  & 0  & Graduate     & No  &  4950 &     0 & 125 & 360 &  1 & Urban     & Y\\\\\n\t LP001034 & Male   & No  & 1  & Not Graduate & No  &  3596 &     0 & 100 & 240 & NA & Urban     & Y\\\\\n\t LP001036 & Female & No  & 0  & Graduate     & No  &  3510 &     0 &  76 & 360 &  0 & Urban     & N\\\\\n\t LP001038 & Male   & Yes & 0  & Not Graduate & No  &  4887 &     0 & 133 & 360 &  1 & Rural     & N\\\\\n\t LP001041 & Male   & Yes & 0  & Graduate     &     &  2600 &  3500 & 115 &  NA &  1 & Urban     & Y\\\\\n\t LP001043 & Male   & Yes & 0  & Not Graduate & No  &  7660 &     0 & 104 & 360 &  0 & Urban     & N\\\\\n\t LP001046 & Male   & Yes & 1  & Graduate     & No  &  5955 &  5625 & 315 & 360 &  1 & Urban     & Y\\\\\n\t LP001047 & Male   & Yes & 0  & Not Graduate & No  &  2600 &  1911 & 116 & 360 &  0 & Semiurban & N\\\\\n\t LP001050 &        & Yes & 2  & Not Graduate & No  &  3365 &  1917 & 112 & 360 &  0 & Rural     & N\\\\\n\t LP001052 & Male   & Yes & 1  & Graduate     &     &  3717 &  2925 & 151 & 360 & NA & Semiurban & N\\\\\n\t LP001066 & Male   & Yes & 0  & Graduate     & Yes &  9560 &     0 & 191 & 360 &  1 & Semiurban & Y\\\\\n\t LP001068 & Male   & Yes & 0  & Graduate     & No  &  2799 &  2253 & 122 & 360 &  1 & Semiurban & Y\\\\\n\t LP001073 & Male   & Yes & 2  & Not Graduate & No  &  4226 &  1040 & 110 & 360 &  1 & Urban     & Y\\\\\n\t LP001086 & Male   & No  & 0  & Not Graduate & No  &  1442 &     0 &  35 & 360 &  1 & Urban     & N\\\\\n\t LP001087 & Female & No  & 2  & Graduate     &     &  3750 &  2083 & 120 & 360 &  1 & Semiurban & Y\\\\\n\t ⋮ & ⋮ & ⋮ & ⋮ & ⋮ & ⋮ & ⋮ & ⋮ & ⋮ & ⋮ & ⋮ & ⋮ & ⋮\\\\\n\t LP002911 & Male   & Yes & 1  & Graduate     & No  &  2787 &  1917 & 146 & 360 &  0 & Rural     & N\\\\\n\t LP002912 & Male   & Yes & 1  & Graduate     & No  &  4283 &  3000 & 172 &  84 &  1 & Rural     & N\\\\\n\t LP002916 & Male   & Yes & 0  & Graduate     & No  &  2297 &  1522 & 104 & 360 &  1 & Urban     & Y\\\\\n\t LP002917 & Female & No  & 0  & Not Graduate & No  &  2165 &     0 &  70 & 360 &  1 & Semiurban & Y\\\\\n\t LP002925 &        & No  & 0  & Graduate     & No  &  4750 &     0 &  94 & 360 &  1 & Semiurban & Y\\\\\n\t LP002926 & Male   & Yes & 2  & Graduate     & Yes &  2726 &     0 & 106 & 360 &  0 & Semiurban & N\\\\\n\t LP002928 & Male   & Yes & 0  & Graduate     & No  &  3000 &  3416 &  56 & 180 &  1 & Semiurban & Y\\\\\n\t LP002931 & Male   & Yes & 2  & Graduate     & Yes &  6000 &     0 & 205 & 240 &  1 & Semiurban & N\\\\\n\t LP002933 &        & No  & 3+ & Graduate     & Yes &  9357 &     0 & 292 & 360 &  1 & Semiurban & Y\\\\\n\t LP002936 & Male   & Yes & 0  & Graduate     & No  &  3859 &  3300 & 142 & 180 &  1 & Rural     & Y\\\\\n\t LP002938 & Male   & Yes & 0  & Graduate     & Yes & 16120 &     0 & 260 & 360 &  1 & Urban     & Y\\\\\n\t LP002940 & Male   & No  & 0  & Not Graduate & No  &  3833 &     0 & 110 & 360 &  1 & Rural     & Y\\\\\n\t LP002941 & Male   & Yes & 2  & Not Graduate & Yes &  6383 &  1000 & 187 & 360 &  1 & Rural     & N\\\\\n\t LP002943 & Male   & No  &    & Graduate     & No  &  2987 &     0 &  88 & 360 &  0 & Semiurban & N\\\\\n\t LP002945 & Male   & Yes & 0  & Graduate     & Yes &  9963 &     0 & 180 & 360 &  1 & Rural     & Y\\\\\n\t LP002948 & Male   & Yes & 2  & Graduate     & No  &  5780 &     0 & 192 & 360 &  1 & Urban     & Y\\\\\n\t LP002949 & Female & No  & 3+ & Graduate     &     &   416 & 41667 & 350 & 180 & NA & Urban     & N\\\\\n\t LP002950 & Male   & Yes & 0  & Not Graduate &     &  2894 &  2792 & 155 & 360 &  1 & Rural     & Y\\\\\n\t LP002953 & Male   & Yes & 3+ & Graduate     & No  &  5703 &     0 & 128 & 360 &  1 & Urban     & Y\\\\\n\t LP002958 & Male   & No  & 0  & Graduate     & No  &  3676 &  4301 & 172 & 360 &  1 & Rural     & Y\\\\\n\t LP002959 & Female & Yes & 1  & Graduate     & No  & 12000 &     0 & 496 & 360 &  1 & Semiurban & Y\\\\\n\t LP002960 & Male   & Yes & 0  & Not Graduate & No  &  2400 &  3800 &  NA & 180 &  1 & Urban     & N\\\\\n\t LP002961 & Male   & Yes & 1  & Graduate     & No  &  3400 &  2500 & 173 & 360 &  1 & Semiurban & Y\\\\\n\t LP002964 & Male   & Yes & 2  & Not Graduate & No  &  3987 &  1411 & 157 & 360 &  1 & Rural     & Y\\\\\n\t LP002974 & Male   & Yes & 0  & Graduate     & No  &  3232 &  1950 & 108 & 360 &  1 & Rural     & Y\\\\\n\t LP002978 & Female & No  & 0  & Graduate     & No  &  2900 &     0 &  71 & 360 &  1 & Rural     & Y\\\\\n\t LP002979 & Male   & Yes & 3+ & Graduate     & No  &  4106 &     0 &  40 & 180 &  1 & Rural     & Y\\\\\n\t LP002983 & Male   & Yes & 1  & Graduate     & No  &  8072 &   240 & 253 & 360 &  1 & Urban     & Y\\\\\n\t LP002984 & Male   & Yes & 2  & Graduate     & No  &  7583 &     0 & 187 & 360 &  1 & Urban     & Y\\\\\n\t LP002990 & Female & No  & 0  & Graduate     & Yes &  4583 &     0 & 133 & 360 &  0 & Semiurban & N\\\\\n\\end{tabular}\n"
          },
          "metadata": {}
        }
      ]
    },
    {
      "cell_type": "code",
      "source": [
        "loanNA <- na.omit(loan)"
      ],
      "metadata": {
        "id": "Weff-6f_dxZu"
      },
      "execution_count": 13,
      "outputs": []
    },
    {
      "cell_type": "code",
      "source": [
        "sapply(loanNA, function(x) sum(is.na(x)))"
      ],
      "metadata": {
        "collapsed": true,
        "id": "n8vbGR6md1I-",
        "outputId": "f5bea5e7-4254-4c34-91df-88ca319cb6a7",
        "colab": {
          "base_uri": "https://localhost:8080/",
          "height": 52
        }
      },
      "execution_count": 14,
      "outputs": [
        {
          "output_type": "display_data",
          "data": {
            "text/html": [
              "<style>\n",
              ".dl-inline {width: auto; margin:0; padding: 0}\n",
              ".dl-inline>dt, .dl-inline>dd {float: none; width: auto; display: inline-block}\n",
              ".dl-inline>dt::after {content: \":\\0020\"; padding-right: .5ex}\n",
              ".dl-inline>dt:not(:first-of-type) {padding-left: .5ex}\n",
              "</style><dl class=dl-inline><dt>Loan_ID</dt><dd>0</dd><dt>Gender</dt><dd>0</dd><dt>Married</dt><dd>0</dd><dt>Dependents</dt><dd>0</dd><dt>Education</dt><dd>0</dd><dt>Self_Employed</dt><dd>0</dd><dt>ApplicantIncome</dt><dd>0</dd><dt>CoapplicantIncome</dt><dd>0</dd><dt>LoanAmount</dt><dd>0</dd><dt>Loan_Amount_Term</dt><dd>0</dd><dt>Credit_History</dt><dd>0</dd><dt>Property_Area</dt><dd>0</dd><dt>Loan_Status</dt><dd>0</dd></dl>\n"
            ],
            "text/markdown": "Loan_ID\n:   0Gender\n:   0Married\n:   0Dependents\n:   0Education\n:   0Self_Employed\n:   0ApplicantIncome\n:   0CoapplicantIncome\n:   0LoanAmount\n:   0Loan_Amount_Term\n:   0Credit_History\n:   0Property_Area\n:   0Loan_Status\n:   0\n\n",
            "text/latex": "\\begin{description*}\n\\item[Loan\\textbackslash{}\\_ID] 0\n\\item[Gender] 0\n\\item[Married] 0\n\\item[Dependents] 0\n\\item[Education] 0\n\\item[Self\\textbackslash{}\\_Employed] 0\n\\item[ApplicantIncome] 0\n\\item[CoapplicantIncome] 0\n\\item[LoanAmount] 0\n\\item[Loan\\textbackslash{}\\_Amount\\textbackslash{}\\_Term] 0\n\\item[Credit\\textbackslash{}\\_History] 0\n\\item[Property\\textbackslash{}\\_Area] 0\n\\item[Loan\\textbackslash{}\\_Status] 0\n\\end{description*}\n",
            "text/plain": [
              "          Loan_ID            Gender           Married        Dependents \n",
              "                0                 0                 0                 0 \n",
              "        Education     Self_Employed   ApplicantIncome CoapplicantIncome \n",
              "                0                 0                 0                 0 \n",
              "       LoanAmount  Loan_Amount_Term    Credit_History     Property_Area \n",
              "                0                 0                 0                 0 \n",
              "      Loan_Status \n",
              "                0 "
            ]
          },
          "metadata": {}
        }
      ]
    },
    {
      "cell_type": "code",
      "source": [
        "cor(loanNA$ApplicantIncome, loanNA$CoapplicantIncome)\n",
        "cor(loanNA$ApplicantIncome, loanNA$Credit_History)\n",
        "cor(loanNA$CoapplicantIncome, loanNA$Credit_History)\n",
        "cor(loanNA$CoapplicantIncome, loanNA$ApplicantIncome)\n",
        "cor(loanNA$Credit_History, loanNA$CoapplicantIncome)\n",
        "cor(loanNA$Credit_History, loanNA$ApplicantIncome)"
      ],
      "metadata": {
        "id": "3C8O4uO0eAT7",
        "outputId": "00a6da8c-2778-48d4-d1e8-eb0b846c79a6",
        "colab": {
          "base_uri": "https://localhost:8080/",
          "height": 121
        }
      },
      "execution_count": 28,
      "outputs": [
        {
          "output_type": "display_data",
          "data": {
            "text/html": [
              "-0.122630580659554"
            ],
            "text/markdown": "-0.122630580659554",
            "text/latex": "-0.122630580659554",
            "text/plain": [
              "[1] -0.1226306"
            ]
          },
          "metadata": {}
        },
        {
          "output_type": "display_data",
          "data": {
            "text/html": [
              "-0.0237785954884821"
            ],
            "text/markdown": "-0.0237785954884821",
            "text/latex": "-0.0237785954884821",
            "text/plain": [
              "[1] -0.0237786"
            ]
          },
          "metadata": {}
        },
        {
          "output_type": "display_data",
          "data": {
            "text/html": [
              "-0.0108471424889266"
            ],
            "text/markdown": "-0.0108471424889266",
            "text/latex": "-0.0108471424889266",
            "text/plain": [
              "[1] -0.01084714"
            ]
          },
          "metadata": {}
        },
        {
          "output_type": "display_data",
          "data": {
            "text/html": [
              "-0.122630580659554"
            ],
            "text/markdown": "-0.122630580659554",
            "text/latex": "-0.122630580659554",
            "text/plain": [
              "[1] -0.1226306"
            ]
          },
          "metadata": {}
        },
        {
          "output_type": "display_data",
          "data": {
            "text/html": [
              "-0.0108471424889266"
            ],
            "text/markdown": "-0.0108471424889266",
            "text/latex": "-0.0108471424889266",
            "text/plain": [
              "[1] -0.01084714"
            ]
          },
          "metadata": {}
        },
        {
          "output_type": "display_data",
          "data": {
            "text/html": [
              "-0.0237785954884821"
            ],
            "text/markdown": "-0.0237785954884821",
            "text/latex": "-0.0237785954884821",
            "text/plain": [
              "[1] -0.0237786"
            ]
          },
          "metadata": {}
        }
      ]
    },
    {
      "cell_type": "code",
      "source": [],
      "metadata": {
        "id": "GNqQkXZkfSZj"
      },
      "execution_count": null,
      "outputs": []
    }
  ],
  "metadata": {
    "colab": {
      "name": "Conheça o Colab",
      "provenance": [],
      "include_colab_link": true
    },
    "kernelspec": {
      "display_name": "R",
      "name": "ir"
    },
    "language_info": {
      "name": "R"
    }
  },
  "nbformat": 4,
  "nbformat_minor": 0
}